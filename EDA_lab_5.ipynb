{
 "cells": [
  {
   "cell_type": "code",
   "execution_count": 1,
   "metadata": {},
   "outputs": [],
   "source": [
    "import pandas as pd\n",
    "import matplotlib.pyplot as plt\n",
    "import seaborn as sns"
   ]
  },
  {
   "cell_type": "code",
   "execution_count": 2,
   "metadata": {},
   "outputs": [],
   "source": [
    "# відключити попередження Anaconda\n",
    "import warnings\n",
    "warnings.simplefilter('ignore')"
   ]
  },
  {
   "cell_type": "code",
   "execution_count": 3,
   "metadata": {},
   "outputs": [],
   "source": [
    "# встановимо, що в цислах типу float виводити 2 знаки після роздільника\n",
    "pd.options.display.float_format = '{:.2f}'.format"
   ]
  },
  {
   "cell_type": "code",
   "execution_count": 6,
   "metadata": {},
   "outputs": [
    {
     "data": {
      "text/html": [
       "<div>\n",
       "<style scoped>\n",
       "    .dataframe tbody tr th:only-of-type {\n",
       "        vertical-align: middle;\n",
       "    }\n",
       "\n",
       "    .dataframe tbody tr th {\n",
       "        vertical-align: top;\n",
       "    }\n",
       "\n",
       "    .dataframe thead th {\n",
       "        text-align: right;\n",
       "    }\n",
       "</style>\n",
       "<table border=\"1\" class=\"dataframe\">\n",
       "  <thead>\n",
       "    <tr style=\"text-align: right;\">\n",
       "      <th></th>\n",
       "      <th>MainBranch</th>\n",
       "      <th>Age</th>\n",
       "      <th>Age1stCode</th>\n",
       "      <th>ConvertedComp</th>\n",
       "      <th>Country</th>\n",
       "      <th>EdLevel</th>\n",
       "      <th>Employment</th>\n",
       "      <th>Gender</th>\n",
       "      <th>JobSat</th>\n",
       "      <th>JobSeek</th>\n",
       "      <th>...</th>\n",
       "      <th>VBA</th>\n",
       "      <th>Perl</th>\n",
       "      <th>Scala</th>\n",
       "      <th>C++</th>\n",
       "      <th>Go</th>\n",
       "      <th>Haskell</th>\n",
       "      <th>Rust</th>\n",
       "      <th>Dart</th>\n",
       "      <th>Julia</th>\n",
       "      <th>Assembly</th>\n",
       "    </tr>\n",
       "  </thead>\n",
       "  <tbody>\n",
       "    <tr>\n",
       "      <th>0</th>\n",
       "      <td>I am a developer by profession</td>\n",
       "      <td>nan</td>\n",
       "      <td>13</td>\n",
       "      <td>nan</td>\n",
       "      <td>Germany</td>\n",
       "      <td>Master’s degree (M.A., M.S., M.Eng., MBA, etc.)</td>\n",
       "      <td>Independent contractor, freelancer, or self-em...</td>\n",
       "      <td>Man</td>\n",
       "      <td>Slightly satisfied</td>\n",
       "      <td>I am not interested in new job opportunities</td>\n",
       "      <td>...</td>\n",
       "      <td>False</td>\n",
       "      <td>False</td>\n",
       "      <td>False</td>\n",
       "      <td>False</td>\n",
       "      <td>False</td>\n",
       "      <td>False</td>\n",
       "      <td>False</td>\n",
       "      <td>False</td>\n",
       "      <td>False</td>\n",
       "      <td>False</td>\n",
       "    </tr>\n",
       "    <tr>\n",
       "      <th>1</th>\n",
       "      <td>I am a developer by profession</td>\n",
       "      <td>nan</td>\n",
       "      <td>19</td>\n",
       "      <td>nan</td>\n",
       "      <td>United Kingdom</td>\n",
       "      <td>Bachelor’s degree (B.A., B.S., B.Eng., etc.)</td>\n",
       "      <td>Employed full-time</td>\n",
       "      <td>NaN</td>\n",
       "      <td>Very dissatisfied</td>\n",
       "      <td>I am not interested in new job opportunities</td>\n",
       "      <td>...</td>\n",
       "      <td>False</td>\n",
       "      <td>False</td>\n",
       "      <td>False</td>\n",
       "      <td>False</td>\n",
       "      <td>False</td>\n",
       "      <td>False</td>\n",
       "      <td>False</td>\n",
       "      <td>False</td>\n",
       "      <td>False</td>\n",
       "      <td>False</td>\n",
       "    </tr>\n",
       "    <tr>\n",
       "      <th>2</th>\n",
       "      <td>I code primarily as a hobby</td>\n",
       "      <td>nan</td>\n",
       "      <td>15</td>\n",
       "      <td>nan</td>\n",
       "      <td>Russian Federation</td>\n",
       "      <td>NaN</td>\n",
       "      <td>NaN</td>\n",
       "      <td>NaN</td>\n",
       "      <td>NaN</td>\n",
       "      <td>NaN</td>\n",
       "      <td>...</td>\n",
       "      <td>False</td>\n",
       "      <td>False</td>\n",
       "      <td>False</td>\n",
       "      <td>False</td>\n",
       "      <td>False</td>\n",
       "      <td>False</td>\n",
       "      <td>False</td>\n",
       "      <td>False</td>\n",
       "      <td>False</td>\n",
       "      <td>False</td>\n",
       "    </tr>\n",
       "  </tbody>\n",
       "</table>\n",
       "<p>3 rows × 49 columns</p>\n",
       "</div>"
      ],
      "text/plain": [
       "                       MainBranch  Age Age1stCode  ConvertedComp  \\\n",
       "0  I am a developer by profession  nan         13            nan   \n",
       "1  I am a developer by profession  nan         19            nan   \n",
       "2     I code primarily as a hobby  nan         15            nan   \n",
       "\n",
       "              Country                                          EdLevel  \\\n",
       "0             Germany  Master’s degree (M.A., M.S., M.Eng., MBA, etc.)   \n",
       "1      United Kingdom     Bachelor’s degree (B.A., B.S., B.Eng., etc.)   \n",
       "2  Russian Federation                                              NaN   \n",
       "\n",
       "                                          Employment Gender  \\\n",
       "0  Independent contractor, freelancer, or self-em...    Man   \n",
       "1                                 Employed full-time    NaN   \n",
       "2                                                NaN    NaN   \n",
       "\n",
       "               JobSat                                       JobSeek  ...  \\\n",
       "0  Slightly satisfied  I am not interested in new job opportunities  ...   \n",
       "1   Very dissatisfied  I am not interested in new job opportunities  ...   \n",
       "2                 NaN                                           NaN  ...   \n",
       "\n",
       "     VBA   Perl  Scala    C++     Go Haskell   Rust   Dart  Julia Assembly  \n",
       "0  False  False  False  False  False   False  False  False  False    False  \n",
       "1  False  False  False  False  False   False  False  False  False    False  \n",
       "2  False  False  False  False  False   False  False  False  False    False  \n",
       "\n",
       "[3 rows x 49 columns]"
      ]
     },
     "execution_count": 6,
     "metadata": {},
     "output_type": "execute_result"
    }
   ],
   "source": [
    "data = pd.read_csv('survey.csv')\n",
    "data"
   ]
  },
  {
   "cell_type": "markdown",
   "metadata": {},
   "source": [
    "### Опис колонок  \n",
    "MainBranch - розробник/ пишу код у вільний від роботи час  \n",
    "**Age** - вік  \n",
    "**Age1stCode** - у якому віці написали перший код  \n",
    "**ConvertedComp** - заробітна плата (у $)  \n",
    "Country - країна проживання  \n",
    "EdLevel - рівень освіти  \n",
    "Employment - поточний вид зайнятості  \n",
    "Gender - стать  \n",
    "JobSat - оцінка рівня задоволенності роботою  \n",
    "JobSeek - чи знаходитесь ви у пошуку роботи зараз  \n",
    "NEWLearn - як часто ви вивчаєте нову мову програмування  \n",
    "NEWOvertime - як часто ви працюєте понаднормово  \n",
    "OpSys - яку операційну систему використовуєте  \n",
    "SOAccount - наявність акаунту на Stack Overflow  \n",
    "SOComm - чи вважаєте ви себе частиною спільноти Stack Overflow  \n",
    "SOPartFreq - як часто ви берете участь в обговореннях на Stack Overflow  \n",
    "SOVisitFreq - як часто ви відвідуєте Stack Overflow  \n",
    "SurveyEase - наскільки простим було опитування  \n",
    "SurveyLength - наскільки довгим було опитування  \n",
    "UndergradMajor - галузь знань, за якою ви здобули освіту  \n",
    "WelcomeChange - наскільки привітною є спільнота користувачів на Stack Overflow  \n",
    "**WorkWeekHrs** - кількість робочих годин на тиждень  \n",
    "**YearsCode** - скільки років займаєтесь написанням коду  \n",
    "**YearsCodePro** - скільки років професійно займаєтесь написанням коду  \n",
    "'C#' - 'Assembly' - з якою мовою програмування ви працювали протягом року"
   ]
  },
  {
   "cell_type": "markdown",
   "metadata": {},
   "source": [
    "## 1. Підготовка та очищення даних"
   ]
  },
  {
   "cell_type": "code",
   "execution_count": 7,
   "metadata": {},
   "outputs": [
    {
     "data": {
      "text/plain": [
       "Index(['MainBranch', 'Age', 'Age1stCode', 'ConvertedComp', 'Country',\n",
       "       'EdLevel', 'Employment', 'Gender', 'JobSat', 'JobSeek', 'NEWLearn',\n",
       "       'NEWOvertime', 'OpSys', 'SOAccount', 'SOComm', 'SOPartFreq',\n",
       "       'SOVisitFreq', 'SurveyEase', 'SurveyLength', 'UndergradMajor',\n",
       "       'WelcomeChange', 'WorkWeekHrs', 'YearsCode', 'YearsCodePro', 'C#',\n",
       "       'HTML/CSS', 'JavaScript', 'Swift', 'Objective-C', 'Python', 'Ruby',\n",
       "       'SQL', 'Java', 'PHP', 'C', 'TypeScript', 'Bash/Shell/PowerShell',\n",
       "       'Kotlin', 'R', 'VBA', 'Perl', 'Scala', 'C++', 'Go', 'Haskell', 'Rust',\n",
       "       'Dart', 'Julia', 'Assembly'],\n",
       "      dtype='object')"
      ]
     },
     "execution_count": 7,
     "metadata": {},
     "output_type": "execute_result"
    }
   ],
   "source": [
    "data.columns"
   ]
  },
  {
   "cell_type": "markdown",
   "metadata": {},
   "source": [
    "### 1.1 Видалення зайвих стовпчиків  \n",
    "**df.drop([list of columns], axis=1)**"
   ]
  },
  {
   "cell_type": "code",
   "execution_count": 8,
   "metadata": {},
   "outputs": [],
   "source": [
    "data.drop(['SurveyEase', 'SurveyLength', 'WelcomeChange'], axis=1, inplace=True)"
   ]
  },
  {
   "cell_type": "markdown",
   "metadata": {},
   "source": [
    "### 1.2 Видалення рядків із пропусками\n",
    "**df.dropna()** - видалити всі рядки, в яких є пропуски"
   ]
  },
  {
   "cell_type": "code",
   "execution_count": 9,
   "metadata": {},
   "outputs": [
    {
     "name": "stdout",
     "output_type": "stream",
     "text": [
      "<class 'pandas.core.frame.DataFrame'>\n",
      "RangeIndex: 64461 entries, 0 to 64460\n",
      "Data columns (total 46 columns):\n",
      " #   Column                 Non-Null Count  Dtype  \n",
      "---  ------                 --------------  -----  \n",
      " 0   MainBranch             64162 non-null  object \n",
      " 1   Age                    45446 non-null  float64\n",
      " 2   Age1stCode             57900 non-null  object \n",
      " 3   ConvertedComp          34756 non-null  float64\n",
      " 4   Country                64072 non-null  object \n",
      " 5   EdLevel                57431 non-null  object \n",
      " 6   Employment             63854 non-null  object \n",
      " 7   Gender                 50557 non-null  object \n",
      " 8   JobSat                 45194 non-null  object \n",
      " 9   JobSeek                51727 non-null  object \n",
      " 10  NEWLearn               56156 non-null  object \n",
      " 11  NEWOvertime            43231 non-null  object \n",
      " 12  OpSys                  56228 non-null  object \n",
      " 13  SOAccount              56805 non-null  object \n",
      " 14  SOComm                 56476 non-null  object \n",
      " 15  SOPartFreq             46792 non-null  object \n",
      " 16  SOVisitFreq            56970 non-null  object \n",
      " 17  UndergradMajor         50995 non-null  object \n",
      " 18  WorkWeekHrs            41151 non-null  float64\n",
      " 19  YearsCode              57684 non-null  object \n",
      " 20  YearsCodePro           46349 non-null  object \n",
      " 21  C#                     64461 non-null  bool   \n",
      " 22  HTML/CSS               64461 non-null  bool   \n",
      " 23  JavaScript             64461 non-null  bool   \n",
      " 24  Swift                  64461 non-null  bool   \n",
      " 25  Objective-C            64461 non-null  bool   \n",
      " 26  Python                 64461 non-null  bool   \n",
      " 27  Ruby                   64461 non-null  bool   \n",
      " 28  SQL                    64461 non-null  bool   \n",
      " 29  Java                   64461 non-null  bool   \n",
      " 30  PHP                    64461 non-null  bool   \n",
      " 31  C                      64461 non-null  bool   \n",
      " 32  TypeScript             64461 non-null  bool   \n",
      " 33  Bash/Shell/PowerShell  64461 non-null  bool   \n",
      " 34  Kotlin                 64461 non-null  bool   \n",
      " 35  R                      64461 non-null  bool   \n",
      " 36  VBA                    64461 non-null  bool   \n",
      " 37  Perl                   64461 non-null  bool   \n",
      " 38  Scala                  64461 non-null  bool   \n",
      " 39  C++                    64461 non-null  bool   \n",
      " 40  Go                     64461 non-null  bool   \n",
      " 41  Haskell                64461 non-null  bool   \n",
      " 42  Rust                   64461 non-null  bool   \n",
      " 43  Dart                   64461 non-null  bool   \n",
      " 44  Julia                  64461 non-null  bool   \n",
      " 45  Assembly               64461 non-null  bool   \n",
      "dtypes: bool(25), float64(3), object(18)\n",
      "memory usage: 11.9+ MB\n"
     ]
    }
   ],
   "source": [
    "data.info()"
   ]
  },
  {
   "cell_type": "code",
   "execution_count": 10,
   "metadata": {},
   "outputs": [
    {
     "data": {
      "text/html": [
       "<div>\n",
       "<style scoped>\n",
       "    .dataframe tbody tr th:only-of-type {\n",
       "        vertical-align: middle;\n",
       "    }\n",
       "\n",
       "    .dataframe tbody tr th {\n",
       "        vertical-align: top;\n",
       "    }\n",
       "\n",
       "    .dataframe thead th {\n",
       "        text-align: right;\n",
       "    }\n",
       "</style>\n",
       "<table border=\"1\" class=\"dataframe\">\n",
       "  <thead>\n",
       "    <tr style=\"text-align: right;\">\n",
       "      <th></th>\n",
       "      <th>MainBranch</th>\n",
       "      <th>Age</th>\n",
       "      <th>Age1stCode</th>\n",
       "      <th>ConvertedComp</th>\n",
       "      <th>Country</th>\n",
       "      <th>EdLevel</th>\n",
       "      <th>Employment</th>\n",
       "      <th>Gender</th>\n",
       "      <th>JobSat</th>\n",
       "      <th>JobSeek</th>\n",
       "      <th>...</th>\n",
       "      <th>VBA</th>\n",
       "      <th>Perl</th>\n",
       "      <th>Scala</th>\n",
       "      <th>C++</th>\n",
       "      <th>Go</th>\n",
       "      <th>Haskell</th>\n",
       "      <th>Rust</th>\n",
       "      <th>Dart</th>\n",
       "      <th>Julia</th>\n",
       "      <th>Assembly</th>\n",
       "    </tr>\n",
       "  </thead>\n",
       "  <tbody>\n",
       "    <tr>\n",
       "      <th>7</th>\n",
       "      <td>I am a developer by profession</td>\n",
       "      <td>36.00</td>\n",
       "      <td>12</td>\n",
       "      <td>116000.00</td>\n",
       "      <td>United States</td>\n",
       "      <td>Bachelor’s degree (B.A., B.S., B.Eng., etc.)</td>\n",
       "      <td>Employed full-time</td>\n",
       "      <td>Man</td>\n",
       "      <td>Slightly dissatisfied</td>\n",
       "      <td>I’m not actively looking, but I am open to new...</td>\n",
       "      <td>...</td>\n",
       "      <td>False</td>\n",
       "      <td>False</td>\n",
       "      <td>False</td>\n",
       "      <td>False</td>\n",
       "      <td>False</td>\n",
       "      <td>False</td>\n",
       "      <td>False</td>\n",
       "      <td>False</td>\n",
       "      <td>False</td>\n",
       "      <td>False</td>\n",
       "    </tr>\n",
       "    <tr>\n",
       "      <th>9</th>\n",
       "      <td>I am a developer by profession</td>\n",
       "      <td>22.00</td>\n",
       "      <td>14</td>\n",
       "      <td>32315.00</td>\n",
       "      <td>United Kingdom</td>\n",
       "      <td>Master’s degree (M.A., M.S., M.Eng., MBA, etc.)</td>\n",
       "      <td>Employed full-time</td>\n",
       "      <td>Man</td>\n",
       "      <td>Very satisfied</td>\n",
       "      <td>I’m not actively looking, but I am open to new...</td>\n",
       "      <td>...</td>\n",
       "      <td>False</td>\n",
       "      <td>False</td>\n",
       "      <td>False</td>\n",
       "      <td>False</td>\n",
       "      <td>False</td>\n",
       "      <td>False</td>\n",
       "      <td>False</td>\n",
       "      <td>False</td>\n",
       "      <td>False</td>\n",
       "      <td>False</td>\n",
       "    </tr>\n",
       "    <tr>\n",
       "      <th>10</th>\n",
       "      <td>I am a developer by profession</td>\n",
       "      <td>23.00</td>\n",
       "      <td>13</td>\n",
       "      <td>40070.00</td>\n",
       "      <td>United Kingdom</td>\n",
       "      <td>Bachelor’s degree (B.A., B.S., B.Eng., etc.)</td>\n",
       "      <td>Employed full-time</td>\n",
       "      <td>Man</td>\n",
       "      <td>Slightly dissatisfied</td>\n",
       "      <td>I am actively looking for a job</td>\n",
       "      <td>...</td>\n",
       "      <td>False</td>\n",
       "      <td>False</td>\n",
       "      <td>False</td>\n",
       "      <td>False</td>\n",
       "      <td>False</td>\n",
       "      <td>False</td>\n",
       "      <td>False</td>\n",
       "      <td>False</td>\n",
       "      <td>False</td>\n",
       "      <td>False</td>\n",
       "    </tr>\n",
       "    <tr>\n",
       "      <th>11</th>\n",
       "      <td>I am a developer by profession</td>\n",
       "      <td>49.00</td>\n",
       "      <td>42</td>\n",
       "      <td>14268.00</td>\n",
       "      <td>Spain</td>\n",
       "      <td>Some college/university study without earning ...</td>\n",
       "      <td>Employed full-time</td>\n",
       "      <td>Man</td>\n",
       "      <td>Very dissatisfied</td>\n",
       "      <td>I’m not actively looking, but I am open to new...</td>\n",
       "      <td>...</td>\n",
       "      <td>False</td>\n",
       "      <td>False</td>\n",
       "      <td>False</td>\n",
       "      <td>False</td>\n",
       "      <td>False</td>\n",
       "      <td>False</td>\n",
       "      <td>False</td>\n",
       "      <td>False</td>\n",
       "      <td>False</td>\n",
       "      <td>False</td>\n",
       "    </tr>\n",
       "    <tr>\n",
       "      <th>13</th>\n",
       "      <td>I am a developer by profession</td>\n",
       "      <td>27.00</td>\n",
       "      <td>13</td>\n",
       "      <td>66000.00</td>\n",
       "      <td>United States</td>\n",
       "      <td>Associate degree (A.A., A.S., etc.)</td>\n",
       "      <td>Employed full-time</td>\n",
       "      <td>Man</td>\n",
       "      <td>Slightly satisfied</td>\n",
       "      <td>I’m not actively looking, but I am open to new...</td>\n",
       "      <td>...</td>\n",
       "      <td>False</td>\n",
       "      <td>False</td>\n",
       "      <td>False</td>\n",
       "      <td>False</td>\n",
       "      <td>False</td>\n",
       "      <td>False</td>\n",
       "      <td>False</td>\n",
       "      <td>False</td>\n",
       "      <td>False</td>\n",
       "      <td>False</td>\n",
       "    </tr>\n",
       "  </tbody>\n",
       "</table>\n",
       "<p>5 rows × 46 columns</p>\n",
       "</div>"
      ],
      "text/plain": [
       "                        MainBranch   Age Age1stCode  ConvertedComp  \\\n",
       "7   I am a developer by profession 36.00         12      116000.00   \n",
       "9   I am a developer by profession 22.00         14       32315.00   \n",
       "10  I am a developer by profession 23.00         13       40070.00   \n",
       "11  I am a developer by profession 49.00         42       14268.00   \n",
       "13  I am a developer by profession 27.00         13       66000.00   \n",
       "\n",
       "           Country                                            EdLevel  \\\n",
       "7    United States       Bachelor’s degree (B.A., B.S., B.Eng., etc.)   \n",
       "9   United Kingdom    Master’s degree (M.A., M.S., M.Eng., MBA, etc.)   \n",
       "10  United Kingdom       Bachelor’s degree (B.A., B.S., B.Eng., etc.)   \n",
       "11           Spain  Some college/university study without earning ...   \n",
       "13   United States                Associate degree (A.A., A.S., etc.)   \n",
       "\n",
       "            Employment Gender                 JobSat  \\\n",
       "7   Employed full-time    Man  Slightly dissatisfied   \n",
       "9   Employed full-time    Man         Very satisfied   \n",
       "10  Employed full-time    Man  Slightly dissatisfied   \n",
       "11  Employed full-time    Man      Very dissatisfied   \n",
       "13  Employed full-time    Man     Slightly satisfied   \n",
       "\n",
       "                                              JobSeek  ...    VBA   Perl  \\\n",
       "7   I’m not actively looking, but I am open to new...  ...  False  False   \n",
       "9   I’m not actively looking, but I am open to new...  ...  False  False   \n",
       "10                    I am actively looking for a job  ...  False  False   \n",
       "11  I’m not actively looking, but I am open to new...  ...  False  False   \n",
       "13  I’m not actively looking, but I am open to new...  ...  False  False   \n",
       "\n",
       "    Scala    C++     Go Haskell   Rust   Dart  Julia Assembly  \n",
       "7   False  False  False   False  False  False  False    False  \n",
       "9   False  False  False   False  False  False  False    False  \n",
       "10  False  False  False   False  False  False  False    False  \n",
       "11  False  False  False   False  False  False  False    False  \n",
       "13  False  False  False   False  False  False  False    False  \n",
       "\n",
       "[5 rows x 46 columns]"
      ]
     },
     "execution_count": 10,
     "metadata": {},
     "output_type": "execute_result"
    }
   ],
   "source": [
    "data.dropna(inplace=True)\n",
    "data.head()"
   ]
  },
  {
   "cell_type": "markdown",
   "metadata": {},
   "source": [
    "### 1.3 Зміна типу даних в колонках з текстового на числовий (за потреби)  \n",
    "**df[name of column] = pd.to_numeric(df[name of column], errors='coerce')**  \n",
    "errors='coerce' - якщо в комірці неможливо конвертувати в числовий тип, то така комірка стає NaN"
   ]
  },
  {
   "cell_type": "code",
   "execution_count": 11,
   "metadata": {},
   "outputs": [],
   "source": [
    "data['Age1stCode'] = pd.to_numeric(data['Age1stCode'], errors='coerce')\n",
    "data['YearsCode'] = pd.to_numeric(data['YearsCode'], errors='coerce')\n",
    "data['YearsCodePro'] = pd.to_numeric(data['YearsCodePro'], errors='coerce')"
   ]
  },
  {
   "cell_type": "code",
   "execution_count": 12,
   "metadata": {},
   "outputs": [
    {
     "name": "stdout",
     "output_type": "stream",
     "text": [
      "<class 'pandas.core.frame.DataFrame'>\n",
      "Int64Index: 22084 entries, 7 to 63517\n",
      "Data columns (total 46 columns):\n",
      " #   Column                 Non-Null Count  Dtype  \n",
      "---  ------                 --------------  -----  \n",
      " 0   MainBranch             22084 non-null  object \n",
      " 1   Age                    22084 non-null  float64\n",
      " 2   Age1stCode             21989 non-null  float64\n",
      " 3   ConvertedComp          22084 non-null  float64\n",
      " 4   Country                22084 non-null  object \n",
      " 5   EdLevel                22084 non-null  object \n",
      " 6   Employment             22084 non-null  object \n",
      " 7   Gender                 22084 non-null  object \n",
      " 8   JobSat                 22084 non-null  object \n",
      " 9   JobSeek                22084 non-null  object \n",
      " 10  NEWLearn               22084 non-null  object \n",
      " 11  NEWOvertime            22084 non-null  object \n",
      " 12  OpSys                  22084 non-null  object \n",
      " 13  SOAccount              22084 non-null  object \n",
      " 14  SOComm                 22084 non-null  object \n",
      " 15  SOPartFreq             22084 non-null  object \n",
      " 16  SOVisitFreq            22084 non-null  object \n",
      " 17  UndergradMajor         22084 non-null  object \n",
      " 18  WorkWeekHrs            22084 non-null  float64\n",
      " 19  YearsCode              22036 non-null  float64\n",
      " 20  YearsCodePro           21357 non-null  float64\n",
      " 21  C#                     22084 non-null  bool   \n",
      " 22  HTML/CSS               22084 non-null  bool   \n",
      " 23  JavaScript             22084 non-null  bool   \n",
      " 24  Swift                  22084 non-null  bool   \n",
      " 25  Objective-C            22084 non-null  bool   \n",
      " 26  Python                 22084 non-null  bool   \n",
      " 27  Ruby                   22084 non-null  bool   \n",
      " 28  SQL                    22084 non-null  bool   \n",
      " 29  Java                   22084 non-null  bool   \n",
      " 30  PHP                    22084 non-null  bool   \n",
      " 31  C                      22084 non-null  bool   \n",
      " 32  TypeScript             22084 non-null  bool   \n",
      " 33  Bash/Shell/PowerShell  22084 non-null  bool   \n",
      " 34  Kotlin                 22084 non-null  bool   \n",
      " 35  R                      22084 non-null  bool   \n",
      " 36  VBA                    22084 non-null  bool   \n",
      " 37  Perl                   22084 non-null  bool   \n",
      " 38  Scala                  22084 non-null  bool   \n",
      " 39  C++                    22084 non-null  bool   \n",
      " 40  Go                     22084 non-null  bool   \n",
      " 41  Haskell                22084 non-null  bool   \n",
      " 42  Rust                   22084 non-null  bool   \n",
      " 43  Dart                   22084 non-null  bool   \n",
      " 44  Julia                  22084 non-null  bool   \n",
      " 45  Assembly               22084 non-null  bool   \n",
      "dtypes: bool(25), float64(6), object(15)\n",
      "memory usage: 4.2+ MB\n"
     ]
    }
   ],
   "source": [
    "data.info()"
   ]
  },
  {
   "cell_type": "code",
   "execution_count": 13,
   "metadata": {},
   "outputs": [],
   "source": [
    "data.dropna(inplace=True)"
   ]
  },
  {
   "cell_type": "code",
   "execution_count": 14,
   "metadata": {},
   "outputs": [
    {
     "data": {
      "text/html": [
       "<div>\n",
       "<style scoped>\n",
       "    .dataframe tbody tr th:only-of-type {\n",
       "        vertical-align: middle;\n",
       "    }\n",
       "\n",
       "    .dataframe tbody tr th {\n",
       "        vertical-align: top;\n",
       "    }\n",
       "\n",
       "    .dataframe thead th {\n",
       "        text-align: right;\n",
       "    }\n",
       "</style>\n",
       "<table border=\"1\" class=\"dataframe\">\n",
       "  <thead>\n",
       "    <tr style=\"text-align: right;\">\n",
       "      <th></th>\n",
       "      <th>Age</th>\n",
       "      <th>Age1stCode</th>\n",
       "      <th>ConvertedComp</th>\n",
       "      <th>WorkWeekHrs</th>\n",
       "      <th>YearsCode</th>\n",
       "      <th>YearsCodePro</th>\n",
       "    </tr>\n",
       "  </thead>\n",
       "  <tbody>\n",
       "    <tr>\n",
       "      <th>count</th>\n",
       "      <td>21241.00</td>\n",
       "      <td>21241.00</td>\n",
       "      <td>21241.00</td>\n",
       "      <td>21241.00</td>\n",
       "      <td>21241.00</td>\n",
       "      <td>21241.00</td>\n",
       "    </tr>\n",
       "    <tr>\n",
       "      <th>mean</th>\n",
       "      <td>32.53</td>\n",
       "      <td>14.90</td>\n",
       "      <td>103899.88</td>\n",
       "      <td>40.77</td>\n",
       "      <td>14.97</td>\n",
       "      <td>8.98</td>\n",
       "    </tr>\n",
       "    <tr>\n",
       "      <th>std</th>\n",
       "      <td>8.24</td>\n",
       "      <td>4.47</td>\n",
       "      <td>217298.93</td>\n",
       "      <td>15.96</td>\n",
       "      <td>9.06</td>\n",
       "      <td>7.33</td>\n",
       "    </tr>\n",
       "    <tr>\n",
       "      <th>min</th>\n",
       "      <td>1.00</td>\n",
       "      <td>5.00</td>\n",
       "      <td>0.00</td>\n",
       "      <td>1.00</td>\n",
       "      <td>1.00</td>\n",
       "      <td>1.00</td>\n",
       "    </tr>\n",
       "    <tr>\n",
       "      <th>25%</th>\n",
       "      <td>27.00</td>\n",
       "      <td>12.00</td>\n",
       "      <td>27250.00</td>\n",
       "      <td>40.00</td>\n",
       "      <td>8.00</td>\n",
       "      <td>4.00</td>\n",
       "    </tr>\n",
       "    <tr>\n",
       "      <th>50%</th>\n",
       "      <td>31.00</td>\n",
       "      <td>15.00</td>\n",
       "      <td>56788.00</td>\n",
       "      <td>40.00</td>\n",
       "      <td>13.00</td>\n",
       "      <td>7.00</td>\n",
       "    </tr>\n",
       "    <tr>\n",
       "      <th>75%</th>\n",
       "      <td>37.00</td>\n",
       "      <td>18.00</td>\n",
       "      <td>99530.00</td>\n",
       "      <td>42.50</td>\n",
       "      <td>20.00</td>\n",
       "      <td>12.00</td>\n",
       "    </tr>\n",
       "    <tr>\n",
       "      <th>max</th>\n",
       "      <td>279.00</td>\n",
       "      <td>50.00</td>\n",
       "      <td>2000000.00</td>\n",
       "      <td>425.00</td>\n",
       "      <td>50.00</td>\n",
       "      <td>48.00</td>\n",
       "    </tr>\n",
       "  </tbody>\n",
       "</table>\n",
       "</div>"
      ],
      "text/plain": [
       "           Age  Age1stCode  ConvertedComp  WorkWeekHrs  YearsCode  \\\n",
       "count 21241.00    21241.00       21241.00     21241.00   21241.00   \n",
       "mean     32.53       14.90      103899.88        40.77      14.97   \n",
       "std       8.24        4.47      217298.93        15.96       9.06   \n",
       "min       1.00        5.00           0.00         1.00       1.00   \n",
       "25%      27.00       12.00       27250.00        40.00       8.00   \n",
       "50%      31.00       15.00       56788.00        40.00      13.00   \n",
       "75%      37.00       18.00       99530.00        42.50      20.00   \n",
       "max     279.00       50.00     2000000.00       425.00      50.00   \n",
       "\n",
       "       YearsCodePro  \n",
       "count      21241.00  \n",
       "mean           8.98  \n",
       "std            7.33  \n",
       "min            1.00  \n",
       "25%            4.00  \n",
       "50%            7.00  \n",
       "75%           12.00  \n",
       "max           48.00  "
      ]
     },
     "execution_count": 14,
     "metadata": {},
     "output_type": "execute_result"
    }
   ],
   "source": [
    "data.describe()"
   ]
  },
  {
   "cell_type": "markdown",
   "metadata": {},
   "source": [
    "## 2. Виявлення та виключення викидів з даних  \n",
    "### 2.1 Числові ознаки"
   ]
  },
  {
   "cell_type": "code",
   "execution_count": 15,
   "metadata": {},
   "outputs": [
    {
     "data": {
      "image/png": "[encoded data removed]",
      "text/plain": [
       "<Figure size 432x288 with 1 Axes>"
      ]
     },
     "metadata": {
      "needs_background": "light"
     },
     "output_type": "display_data"
    }
   ],
   "source": [
    "data[['Age']].hist();"
   ]
  },
  {
   "cell_type": "code",
   "execution_count": 17,
   "metadata": {},
   "outputs": [
    {
     "data": {
      "image/png": "[encoded data removed]",
      "text/plain": [
       "<Figure size 576x576 with 1 Axes>"
      ]
     },
     "metadata": {
      "needs_background": "light"
     },
     "output_type": "display_data"
    }
   ],
   "source": [
    "data[['Age']].boxplot(figsize=(8, 8));"
   ]
  },
  {
   "cell_type": "code",
   "execution_count": 18,
   "metadata": {},
   "outputs": [],
   "source": [
    "data.drop(data[data['Age'] < 15].index, inplace=True)\n",
    "data.drop(data[data['Age'] > 55].index, inplace=True)"
   ]
  },
  {
   "cell_type": "markdown",
   "metadata": {},
   "source": [
    "### 2.2 Категоріальні ознаки"
   ]
  },
  {
   "cell_type": "code",
   "execution_count": 19,
   "metadata": {},
   "outputs": [
    {
     "name": "stdout",
     "output_type": "stream",
     "text": [
      "Gender    7\n",
      "dtype: int64\n",
      "Gender                                                     \n",
      "Man                                                            19443\n",
      "Woman                                                           1243\n",
      "Non-binary, genderqueer, or gender non-conforming                124\n",
      "Man;Non-binary, genderqueer, or gender non-conforming             52\n",
      "Woman;Non-binary, genderqueer, or gender non-conforming           27\n",
      "Woman;Man                                                          9\n",
      "Woman;Man;Non-binary, genderqueer, or gender non-conforming        4\n",
      "dtype: int64\n"
     ]
    }
   ],
   "source": [
    "print(data[['Gender']].nunique())\n",
    "print(data[['Gender']].value_counts())"
   ]
  },
  {
   "cell_type": "code",
   "execution_count": 20,
   "metadata": {},
   "outputs": [
    {
     "data": {
      "image/png": "[encoded data removed]",
      "text/plain": [
       "<Figure size 432x288 with 1 Axes>"
      ]
     },
     "metadata": {
      "needs_background": "light"
     },
     "output_type": "display_data"
    }
   ],
   "source": [
    "data[['Gender']].value_counts().plot.bar();"
   ]
  },
  {
   "cell_type": "code",
   "execution_count": 21,
   "metadata": {},
   "outputs": [],
   "source": [
    "data.drop((data[data['Gender'] == 'Non-binary, genderqueer, or gender non-conforming'].index) |\n",
    "          (data[data['Gender'] == 'Man;Non-binary, genderqueer, or gender non-conforming'].index) |\n",
    "          (data[data['Gender'] == 'Woman;Non-binary, genderqueer, or gender non-conforming'].index) |\n",
    "          (data[data['Gender'] == 'Woman;Man'].index) |\n",
    "          (data[data['Gender'] == 'Woman;Man;Non-binary, genderqueer, or gender non-conforming'].index), inplace=True )"
   ]
  },
  {
   "cell_type": "code",
   "execution_count": 22,
   "metadata": {},
   "outputs": [
    {
     "data": {
      "image/png": "[encoded data removed]",
      "text/plain": [
       "<Figure size 432x288 with 1 Axes>"
      ]
     },
     "metadata": {
      "needs_background": "light"
     },
     "output_type": "display_data"
    }
   ],
   "source": [
    "data[['Gender']].value_counts().plot.bar();"
   ]
  },
  {
   "cell_type": "markdown",
   "metadata": {},
   "source": [
    "після очищення даних датафрейм варто перезаписати  \n",
    "\n",
    "## Розвідковий аналіз даних"
   ]
  },
  {
   "cell_type": "code",
   "execution_count": 23,
   "metadata": {},
   "outputs": [
    {
     "data": {
      "image/png": "[encoded data removed]",
      "text/plain": [
       "<Figure size 720x576 with 2 Axes>"
      ]
     },
     "metadata": {
      "needs_background": "light"
     },
     "output_type": "display_data"
    }
   ],
   "source": [
    "plt.figure(figsize=(10,8));\n",
    "sns.heatmap(data[['Age', 'Age1stCode', 'ConvertedComp', 'WorkWeekHrs', 'YearsCode', 'YearsCodePro']].corr());"
   ]
  },
  {
   "cell_type": "code",
   "execution_count": 24,
   "metadata": {},
   "outputs": [
    {
     "name": "stdout",
     "output_type": "stream",
     "text": [
      "MainBranch    2\n",
      "dtype: int64\n",
      "MainBranch                                                                   \n",
      "I am a developer by profession                                                   19040\n",
      "I am not primarily a developer, but I write code sometimes as part of my work     1646\n",
      "dtype: int64\n"
     ]
    },
    {
     "data": {
      "image/png": "[encoded data removed]",
      "text/plain": [
       "<Figure size 432x288 with 1 Axes>"
      ]
     },
     "metadata": {
      "needs_background": "light"
     },
     "output_type": "display_data"
    }
   ],
   "source": [
    "print(data[['MainBranch']].nunique())\n",
    "print(data[['MainBranch']].value_counts())\n",
    "data[['MainBranch']].value_counts().plot.bar();"
   ]
  },
  {
   "cell_type": "code",
   "execution_count": 25,
   "metadata": {},
   "outputs": [
    {
     "data": {
      "image/png": "[encoded data removed]",
      "text/plain": [
       "<Figure size 432x288 with 1 Axes>"
      ]
     },
     "metadata": {
      "needs_background": "light"
     },
     "output_type": "display_data"
    }
   ],
   "source": [
    "sns.boxplot(data['MainBranch'], data['Age'], hue=data['Gender']);\n",
    "plt.xticks(rotation=90); \n",
    "plt.legend(loc=1);"
   ]
  },
  {
   "cell_type": "code",
   "execution_count": 26,
   "metadata": {},
   "outputs": [
    {
     "data": {
      "text/plain": [
       "147"
      ]
     },
     "execution_count": 26,
     "metadata": {},
     "output_type": "execute_result"
    }
   ],
   "source": [
    "data['Country'].nunique()"
   ]
  },
  {
   "cell_type": "code",
   "execution_count": 28,
   "metadata": {},
   "outputs": [
    {
     "data": {
      "text/plain": [
       "United States     4771\n",
       "India             1594\n",
       "United Kingdom    1477\n",
       "Germany           1360\n",
       "Canada             765\n",
       "                  ... \n",
       "Niger                1\n",
       "Turkmenistan         1\n",
       "Haiti                1\n",
       "Bahamas              1\n",
       "Lesotho              1\n",
       "Name: Country, Length: 147, dtype: int64"
      ]
     },
     "execution_count": 28,
     "metadata": {},
     "output_type": "execute_result"
    }
   ],
   "source": [
    "data['Country'].value_counts()"
   ]
  },
  {
   "cell_type": "code",
   "execution_count": 29,
   "metadata": {},
   "outputs": [
    {
     "data": {
      "image/png": "[encoded data removed]",
      "text/plain": [
       "<Figure size 432x288 with 1 Axes>"
      ]
     },
     "metadata": {
      "needs_background": "light"
     },
     "output_type": "display_data"
    }
   ],
   "source": [
    "data[['Country']].value_counts().head(10).plot.bar();"
   ]
  },
  {
   "cell_type": "code",
   "execution_count": 30,
   "metadata": {},
   "outputs": [
    {
     "data": {
      "text/plain": [
       "6"
      ]
     },
     "execution_count": 30,
     "metadata": {},
     "output_type": "execute_result"
    }
   ],
   "source": [
    "data['EdLevel'].nunique()"
   ]
  },
  {
   "cell_type": "code",
   "execution_count": 40,
   "metadata": {},
   "outputs": [
    {
     "data": {
      "image/png": "[encoded data removed]",
      "text/plain": [
       "<Figure size 432x288 with 1 Axes>"
      ]
     },
     "metadata": {
      "needs_background": "light"
     },
     "output_type": "display_data"
    }
   ],
   "source": [
    "sns.countplot(data['EdLevel']);\n",
    "plt.title('Рівень освіти');\n",
    "plt.xticks(rotation=90); "
   ]
  },
  {
   "cell_type": "code",
   "execution_count": 33,
   "metadata": {
    "scrolled": true
   },
   "outputs": [
    {
     "data": {
      "text/html": [
       "<div>\n",
       "<style scoped>\n",
       "    .dataframe tbody tr th:only-of-type {\n",
       "        vertical-align: middle;\n",
       "    }\n",
       "\n",
       "    .dataframe tbody tr th {\n",
       "        vertical-align: top;\n",
       "    }\n",
       "\n",
       "    .dataframe thead th {\n",
       "        text-align: right;\n",
       "    }\n",
       "</style>\n",
       "<table border=\"1\" class=\"dataframe\">\n",
       "  <thead>\n",
       "    <tr style=\"text-align: right;\">\n",
       "      <th></th>\n",
       "      <th>Age</th>\n",
       "      <th>Age1stCode</th>\n",
       "      <th>ConvertedComp</th>\n",
       "    </tr>\n",
       "    <tr>\n",
       "      <th>EdLevel</th>\n",
       "      <th></th>\n",
       "      <th></th>\n",
       "      <th></th>\n",
       "    </tr>\n",
       "  </thead>\n",
       "  <tbody>\n",
       "    <tr>\n",
       "      <th>Associate degree (A.A., A.S., etc.)</th>\n",
       "      <td>31.72</td>\n",
       "      <td>15.06</td>\n",
       "      <td>106625.85</td>\n",
       "    </tr>\n",
       "    <tr>\n",
       "      <th>Bachelor’s degree (B.A., B.S., B.Eng., etc.)</th>\n",
       "      <td>30.97</td>\n",
       "      <td>15.17</td>\n",
       "      <td>105476.58</td>\n",
       "    </tr>\n",
       "    <tr>\n",
       "      <th>Master’s degree (M.A., M.S., M.Eng., MBA, etc.)</th>\n",
       "      <td>33.38</td>\n",
       "      <td>14.69</td>\n",
       "      <td>102445.67</td>\n",
       "    </tr>\n",
       "    <tr>\n",
       "      <th>Other doctoral degree (Ph.D., Ed.D., etc.)</th>\n",
       "      <td>37.17</td>\n",
       "      <td>13.84</td>\n",
       "      <td>123443.97</td>\n",
       "    </tr>\n",
       "    <tr>\n",
       "      <th>Professional degree (JD, MD, etc.)</th>\n",
       "      <td>33.66</td>\n",
       "      <td>15.35</td>\n",
       "      <td>61993.06</td>\n",
       "    </tr>\n",
       "    <tr>\n",
       "      <th>Some college/university study without earning a degree</th>\n",
       "      <td>32.47</td>\n",
       "      <td>14.09</td>\n",
       "      <td>95466.93</td>\n",
       "    </tr>\n",
       "  </tbody>\n",
       "</table>\n",
       "</div>"
      ],
      "text/plain": [
       "                                                     Age  Age1stCode  \\\n",
       "EdLevel                                                                \n",
       "Associate degree (A.A., A.S., etc.)                31.72       15.06   \n",
       "Bachelor’s degree (B.A., B.S., B.Eng., etc.)       30.97       15.17   \n",
       "Master’s degree (M.A., M.S., M.Eng., MBA, etc.)    33.38       14.69   \n",
       "Other doctoral degree (Ph.D., Ed.D., etc.)         37.17       13.84   \n",
       "Professional degree (JD, MD, etc.)                 33.66       15.35   \n",
       "Some college/university study without earning a... 32.47       14.09   \n",
       "\n",
       "                                                    ConvertedComp  \n",
       "EdLevel                                                            \n",
       "Associate degree (A.A., A.S., etc.)                     106625.85  \n",
       "Bachelor’s degree (B.A., B.S., B.Eng., etc.)            105476.58  \n",
       "Master’s degree (M.A., M.S., M.Eng., MBA, etc.)         102445.67  \n",
       "Other doctoral degree (Ph.D., Ed.D., etc.)              123443.97  \n",
       "Professional degree (JD, MD, etc.)                       61993.06  \n",
       "Some college/university study without earning a...       95466.93  "
      ]
     },
     "execution_count": 33,
     "metadata": {},
     "output_type": "execute_result"
    }
   ],
   "source": [
    "data.groupby(['EdLevel'])['Age', 'Age1stCode', 'ConvertedComp'].mean()"
   ]
  },
  {
   "cell_type": "code",
   "execution_count": 34,
   "metadata": {},
   "outputs": [
    {
     "data": {
      "text/plain": [
       "Index(['MainBranch', 'Age', 'Age1stCode', 'ConvertedComp', 'Country',\n",
       "       'EdLevel', 'Employment', 'Gender', 'JobSat', 'JobSeek', 'NEWLearn',\n",
       "       'NEWOvertime', 'OpSys', 'SOAccount', 'SOComm', 'SOPartFreq',\n",
       "       'SOVisitFreq', 'UndergradMajor', 'WorkWeekHrs', 'YearsCode',\n",
       "       'YearsCodePro', 'C#', 'HTML/CSS', 'JavaScript', 'Swift', 'Objective-C',\n",
       "       'Python', 'Ruby', 'SQL', 'Java', 'PHP', 'C', 'TypeScript',\n",
       "       'Bash/Shell/PowerShell', 'Kotlin', 'R', 'VBA', 'Perl', 'Scala', 'C++',\n",
       "       'Go', 'Haskell', 'Rust', 'Dart', 'Julia', 'Assembly'],\n",
       "      dtype='object')"
      ]
     },
     "execution_count": 34,
     "metadata": {},
     "output_type": "execute_result"
    }
   ],
   "source": [
    "data.columns"
   ]
  },
  {
   "cell_type": "code",
   "execution_count": 35,
   "metadata": {},
   "outputs": [
    {
     "data": {
      "text/html": [
       "<div>\n",
       "<style scoped>\n",
       "    .dataframe tbody tr th:only-of-type {\n",
       "        vertical-align: middle;\n",
       "    }\n",
       "\n",
       "    .dataframe tbody tr th {\n",
       "        vertical-align: top;\n",
       "    }\n",
       "\n",
       "    .dataframe thead th {\n",
       "        text-align: right;\n",
       "    }\n",
       "</style>\n",
       "<table border=\"1\" class=\"dataframe\">\n",
       "  <thead>\n",
       "    <tr style=\"text-align: right;\">\n",
       "      <th></th>\n",
       "      <th>C#</th>\n",
       "      <th>HTML/CSS</th>\n",
       "      <th>JavaScript</th>\n",
       "      <th>Swift</th>\n",
       "      <th>Objective-C</th>\n",
       "      <th>Python</th>\n",
       "      <th>Ruby</th>\n",
       "      <th>SQL</th>\n",
       "      <th>Java</th>\n",
       "      <th>PHP</th>\n",
       "      <th>...</th>\n",
       "      <th>VBA</th>\n",
       "      <th>Perl</th>\n",
       "      <th>Scala</th>\n",
       "      <th>C++</th>\n",
       "      <th>Go</th>\n",
       "      <th>Haskell</th>\n",
       "      <th>Rust</th>\n",
       "      <th>Dart</th>\n",
       "      <th>Julia</th>\n",
       "      <th>Assembly</th>\n",
       "    </tr>\n",
       "  </thead>\n",
       "  <tbody>\n",
       "    <tr>\n",
       "      <th>7</th>\n",
       "      <td>False</td>\n",
       "      <td>False</td>\n",
       "      <td>False</td>\n",
       "      <td>False</td>\n",
       "      <td>False</td>\n",
       "      <td>True</td>\n",
       "      <td>False</td>\n",
       "      <td>True</td>\n",
       "      <td>False</td>\n",
       "      <td>False</td>\n",
       "      <td>...</td>\n",
       "      <td>False</td>\n",
       "      <td>False</td>\n",
       "      <td>False</td>\n",
       "      <td>False</td>\n",
       "      <td>False</td>\n",
       "      <td>False</td>\n",
       "      <td>False</td>\n",
       "      <td>False</td>\n",
       "      <td>False</td>\n",
       "      <td>False</td>\n",
       "    </tr>\n",
       "    <tr>\n",
       "      <th>9</th>\n",
       "      <td>False</td>\n",
       "      <td>True</td>\n",
       "      <td>True</td>\n",
       "      <td>False</td>\n",
       "      <td>False</td>\n",
       "      <td>True</td>\n",
       "      <td>False</td>\n",
       "      <td>True</td>\n",
       "      <td>True</td>\n",
       "      <td>False</td>\n",
       "      <td>...</td>\n",
       "      <td>False</td>\n",
       "      <td>False</td>\n",
       "      <td>False</td>\n",
       "      <td>False</td>\n",
       "      <td>False</td>\n",
       "      <td>False</td>\n",
       "      <td>False</td>\n",
       "      <td>False</td>\n",
       "      <td>False</td>\n",
       "      <td>False</td>\n",
       "    </tr>\n",
       "    <tr>\n",
       "      <th>10</th>\n",
       "      <td>True</td>\n",
       "      <td>False</td>\n",
       "      <td>True</td>\n",
       "      <td>True</td>\n",
       "      <td>False</td>\n",
       "      <td>False</td>\n",
       "      <td>False</td>\n",
       "      <td>False</td>\n",
       "      <td>False</td>\n",
       "      <td>False</td>\n",
       "      <td>...</td>\n",
       "      <td>False</td>\n",
       "      <td>False</td>\n",
       "      <td>False</td>\n",
       "      <td>False</td>\n",
       "      <td>False</td>\n",
       "      <td>False</td>\n",
       "      <td>False</td>\n",
       "      <td>False</td>\n",
       "      <td>False</td>\n",
       "      <td>False</td>\n",
       "    </tr>\n",
       "    <tr>\n",
       "      <th>11</th>\n",
       "      <td>False</td>\n",
       "      <td>True</td>\n",
       "      <td>True</td>\n",
       "      <td>False</td>\n",
       "      <td>False</td>\n",
       "      <td>False</td>\n",
       "      <td>False</td>\n",
       "      <td>False</td>\n",
       "      <td>False</td>\n",
       "      <td>False</td>\n",
       "      <td>...</td>\n",
       "      <td>False</td>\n",
       "      <td>False</td>\n",
       "      <td>False</td>\n",
       "      <td>False</td>\n",
       "      <td>False</td>\n",
       "      <td>False</td>\n",
       "      <td>False</td>\n",
       "      <td>False</td>\n",
       "      <td>False</td>\n",
       "      <td>False</td>\n",
       "    </tr>\n",
       "    <tr>\n",
       "      <th>13</th>\n",
       "      <td>False</td>\n",
       "      <td>True</td>\n",
       "      <td>True</td>\n",
       "      <td>False</td>\n",
       "      <td>False</td>\n",
       "      <td>False</td>\n",
       "      <td>False</td>\n",
       "      <td>True</td>\n",
       "      <td>False</td>\n",
       "      <td>False</td>\n",
       "      <td>...</td>\n",
       "      <td>False</td>\n",
       "      <td>False</td>\n",
       "      <td>False</td>\n",
       "      <td>False</td>\n",
       "      <td>False</td>\n",
       "      <td>False</td>\n",
       "      <td>False</td>\n",
       "      <td>False</td>\n",
       "      <td>False</td>\n",
       "      <td>False</td>\n",
       "    </tr>\n",
       "    <tr>\n",
       "      <th>...</th>\n",
       "      <td>...</td>\n",
       "      <td>...</td>\n",
       "      <td>...</td>\n",
       "      <td>...</td>\n",
       "      <td>...</td>\n",
       "      <td>...</td>\n",
       "      <td>...</td>\n",
       "      <td>...</td>\n",
       "      <td>...</td>\n",
       "      <td>...</td>\n",
       "      <td>...</td>\n",
       "      <td>...</td>\n",
       "      <td>...</td>\n",
       "      <td>...</td>\n",
       "      <td>...</td>\n",
       "      <td>...</td>\n",
       "      <td>...</td>\n",
       "      <td>...</td>\n",
       "      <td>...</td>\n",
       "      <td>...</td>\n",
       "      <td>...</td>\n",
       "    </tr>\n",
       "    <tr>\n",
       "      <th>62054</th>\n",
       "      <td>False</td>\n",
       "      <td>True</td>\n",
       "      <td>True</td>\n",
       "      <td>False</td>\n",
       "      <td>False</td>\n",
       "      <td>False</td>\n",
       "      <td>False</td>\n",
       "      <td>True</td>\n",
       "      <td>False</td>\n",
       "      <td>False</td>\n",
       "      <td>...</td>\n",
       "      <td>False</td>\n",
       "      <td>False</td>\n",
       "      <td>False</td>\n",
       "      <td>False</td>\n",
       "      <td>True</td>\n",
       "      <td>False</td>\n",
       "      <td>False</td>\n",
       "      <td>False</td>\n",
       "      <td>False</td>\n",
       "      <td>False</td>\n",
       "    </tr>\n",
       "    <tr>\n",
       "      <th>62212</th>\n",
       "      <td>True</td>\n",
       "      <td>True</td>\n",
       "      <td>True</td>\n",
       "      <td>False</td>\n",
       "      <td>False</td>\n",
       "      <td>False</td>\n",
       "      <td>False</td>\n",
       "      <td>True</td>\n",
       "      <td>False</td>\n",
       "      <td>False</td>\n",
       "      <td>...</td>\n",
       "      <td>False</td>\n",
       "      <td>False</td>\n",
       "      <td>False</td>\n",
       "      <td>False</td>\n",
       "      <td>False</td>\n",
       "      <td>False</td>\n",
       "      <td>False</td>\n",
       "      <td>False</td>\n",
       "      <td>False</td>\n",
       "      <td>False</td>\n",
       "    </tr>\n",
       "    <tr>\n",
       "      <th>63083</th>\n",
       "      <td>False</td>\n",
       "      <td>True</td>\n",
       "      <td>True</td>\n",
       "      <td>False</td>\n",
       "      <td>False</td>\n",
       "      <td>False</td>\n",
       "      <td>False</td>\n",
       "      <td>True</td>\n",
       "      <td>True</td>\n",
       "      <td>True</td>\n",
       "      <td>...</td>\n",
       "      <td>False</td>\n",
       "      <td>False</td>\n",
       "      <td>False</td>\n",
       "      <td>False</td>\n",
       "      <td>False</td>\n",
       "      <td>False</td>\n",
       "      <td>False</td>\n",
       "      <td>False</td>\n",
       "      <td>False</td>\n",
       "      <td>False</td>\n",
       "    </tr>\n",
       "    <tr>\n",
       "      <th>63402</th>\n",
       "      <td>True</td>\n",
       "      <td>True</td>\n",
       "      <td>True</td>\n",
       "      <td>False</td>\n",
       "      <td>False</td>\n",
       "      <td>True</td>\n",
       "      <td>False</td>\n",
       "      <td>True</td>\n",
       "      <td>False</td>\n",
       "      <td>False</td>\n",
       "      <td>...</td>\n",
       "      <td>False</td>\n",
       "      <td>False</td>\n",
       "      <td>False</td>\n",
       "      <td>False</td>\n",
       "      <td>False</td>\n",
       "      <td>False</td>\n",
       "      <td>False</td>\n",
       "      <td>False</td>\n",
       "      <td>False</td>\n",
       "      <td>False</td>\n",
       "    </tr>\n",
       "    <tr>\n",
       "      <th>63517</th>\n",
       "      <td>False</td>\n",
       "      <td>True</td>\n",
       "      <td>True</td>\n",
       "      <td>False</td>\n",
       "      <td>False</td>\n",
       "      <td>True</td>\n",
       "      <td>True</td>\n",
       "      <td>True</td>\n",
       "      <td>True</td>\n",
       "      <td>True</td>\n",
       "      <td>...</td>\n",
       "      <td>False</td>\n",
       "      <td>False</td>\n",
       "      <td>False</td>\n",
       "      <td>True</td>\n",
       "      <td>False</td>\n",
       "      <td>False</td>\n",
       "      <td>False</td>\n",
       "      <td>False</td>\n",
       "      <td>False</td>\n",
       "      <td>True</td>\n",
       "    </tr>\n",
       "  </tbody>\n",
       "</table>\n",
       "<p>20686 rows × 25 columns</p>\n",
       "</div>"
      ],
      "text/plain": [
       "          C#  HTML/CSS  JavaScript  Swift  Objective-C  Python   Ruby    SQL  \\\n",
       "7      False     False       False  False        False    True  False   True   \n",
       "9      False      True        True  False        False    True  False   True   \n",
       "10      True     False        True   True        False   False  False  False   \n",
       "11     False      True        True  False        False   False  False  False   \n",
       "13     False      True        True  False        False   False  False   True   \n",
       "...      ...       ...         ...    ...          ...     ...    ...    ...   \n",
       "62054  False      True        True  False        False   False  False   True   \n",
       "62212   True      True        True  False        False   False  False   True   \n",
       "63083  False      True        True  False        False   False  False   True   \n",
       "63402   True      True        True  False        False    True  False   True   \n",
       "63517  False      True        True  False        False    True   True   True   \n",
       "\n",
       "        Java    PHP  ...    VBA   Perl  Scala    C++     Go  Haskell   Rust  \\\n",
       "7      False  False  ...  False  False  False  False  False    False  False   \n",
       "9       True  False  ...  False  False  False  False  False    False  False   \n",
       "10     False  False  ...  False  False  False  False  False    False  False   \n",
       "11     False  False  ...  False  False  False  False  False    False  False   \n",
       "13     False  False  ...  False  False  False  False  False    False  False   \n",
       "...      ...    ...  ...    ...    ...    ...    ...    ...      ...    ...   \n",
       "62054  False  False  ...  False  False  False  False   True    False  False   \n",
       "62212  False  False  ...  False  False  False  False  False    False  False   \n",
       "63083   True   True  ...  False  False  False  False  False    False  False   \n",
       "63402  False  False  ...  False  False  False  False  False    False  False   \n",
       "63517   True   True  ...  False  False  False   True  False    False  False   \n",
       "\n",
       "        Dart  Julia  Assembly  \n",
       "7      False  False     False  \n",
       "9      False  False     False  \n",
       "10     False  False     False  \n",
       "11     False  False     False  \n",
       "13     False  False     False  \n",
       "...      ...    ...       ...  \n",
       "62054  False  False     False  \n",
       "62212  False  False     False  \n",
       "63083  False  False     False  \n",
       "63402  False  False     False  \n",
       "63517  False  False      True  \n",
       "\n",
       "[20686 rows x 25 columns]"
      ]
     },
     "execution_count": 35,
     "metadata": {},
     "output_type": "execute_result"
    }
   ],
   "source": [
    "data_languages = data.loc[:, 'C#':'Assembly']\n",
    "data_languages"
   ]
  },
  {
   "cell_type": "code",
   "execution_count": 36,
   "metadata": {},
   "outputs": [
    {
     "data": {
      "text/plain": [
       "JavaScript               14593\n",
       "HTML/CSS                 12810\n",
       "SQL                      11925\n",
       "Python                    8536\n",
       "Bash/Shell/PowerShell     7737\n",
       "Java                      7686\n",
       "C#                        6827\n",
       "TypeScript                6389\n",
       "PHP                       4901\n",
       "C++                       3670\n",
       "C                         3056\n",
       "Go                        2039\n",
       "Kotlin                    1773\n",
       "Ruby                      1704\n",
       "Swift                     1280\n",
       "VBA                       1132\n",
       "R                         1072\n",
       "Objective-C                918\n",
       "Scala                      896\n",
       "Rust                       882\n",
       "Assembly                   739\n",
       "Dart                       704\n",
       "Perl                       609\n",
       "Haskell                    307\n",
       "Julia                      128\n",
       "dtype: int64"
      ]
     },
     "execution_count": 36,
     "metadata": {},
     "output_type": "execute_result"
    }
   ],
   "source": [
    "languages = data_languages.sum().sort_values(ascending = False)\n",
    "languages"
   ]
  },
  {
   "cell_type": "code",
   "execution_count": 37,
   "metadata": {},
   "outputs": [
    {
     "data": {
      "image/png": "[encoded data removed]",
      "text/plain": [
       "<Figure size 432x288 with 1 Axes>"
      ]
     },
     "metadata": {
      "needs_background": "light"
     },
     "output_type": "display_data"
    }
   ],
   "source": [
    "sns.barplot(x=languages.index, y=languages);\n",
    "plt.title('Популярність мов програмування');\n",
    "plt.xticks(rotation=90);"
   ]
  },
  {
   "cell_type": "markdown",
   "metadata": {},
   "source": [
    "## Завдання  \n",
    "1. Провести аналіз числових ознак на наявність викидів, за потреби видалити викиди  \n",
    "2. Дослідити розподіл числових ознак та взаємозв'язки між парами цих ознак + висновки (1-2 речення)  \n",
    "3. Проілюструвати розподіл респондентів за галузю знань (UndergradMajor)  \n",
    "4. Визначити популярність мов програмування серед фрілансерів (Employment) \n",
    "5. В яких країнах розробники мають найдовший робочий тиждень?  \n",
    "6. Чи правда, що працівники, які працюють понаднормово, отримують вищу заробітну плату? "
   ]
  }
 ],
 "metadata": {
  "kernelspec": {
   "display_name": "Python 3",
   "language": "python",
   "name": "python3"
  },
  "language_info": {
   "codemirror_mode": {
    "name": "ipython",
    "version": 3
   },
   "file_extension": ".py",
   "mimetype": "text/x-python",
   "name": "python",
   "nbconvert_exporter": "python",
   "pygments_lexer": "ipython3",
   "version": "3.8.5"
  }
 },
 "nbformat": 4,
 "nbformat_minor": 4
}
